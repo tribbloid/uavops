{
 "cells": [
  {
   "cell_type": "markdown",
   "id": "393e51f0",
   "metadata": {},
   "source": [
    "## Main board"
   ]
  },
  {
   "cell_type": "code",
   "execution_count": 11,
   "id": "49904eae",
   "metadata": {},
   "outputs": [
    {
     "data": {
      "text/plain": [
       "3.0"
      ]
     },
     "execution_count": 11,
     "metadata": {},
     "output_type": "execute_result"
    }
   ],
   "source": [
    "#Width \n",
    "113.54\n",
    "\n",
    "# shielding thickness\n",
    "4.4\n",
    "\n",
    "# PCB  thickness\n",
    "1.57\n",
    "\n",
    "levitation = 4.4 - 1.57 + 0.17\n",
    "levitation"
   ]
  },
  {
   "cell_type": "markdown",
   "id": "1548cabb",
   "metadata": {},
   "source": [
    "### fastening"
   ]
  },
  {
   "cell_type": "code",
   "execution_count": 12,
   "id": "9d643d96",
   "metadata": {},
   "outputs": [
    {
     "data": {
      "text/plain": [
       "97.2"
      ]
     },
     "execution_count": 12,
     "metadata": {},
     "output_type": "execute_result"
    }
   ],
   "source": [
    "# silver outer rim <-> copper inner rim\n",
    "97.2"
   ]
  },
  {
   "cell_type": "code",
   "execution_count": 13,
   "id": "005a4382",
   "metadata": {},
   "outputs": [
    {
     "data": {
      "text/plain": [
       "92.65"
      ]
     },
     "execution_count": 13,
     "metadata": {},
     "output_type": "execute_result"
    }
   ],
   "source": [
    "# silver centre <-> copper centre\n",
    "97.2 - 3.3 - 1.25"
   ]
  },
  {
   "cell_type": "code",
   "execution_count": 14,
   "id": "13f78ea7",
   "metadata": {},
   "outputs": [
    {
     "data": {
      "text/plain": [
       "98.3"
      ]
     },
     "execution_count": 14,
     "metadata": {},
     "output_type": "execute_result"
    }
   ],
   "source": [
    "# copper inner rim <-> copper inner rim\n",
    "98.3"
   ]
  },
  {
   "cell_type": "code",
   "execution_count": 15,
   "id": "f017f869",
   "metadata": {},
   "outputs": [
    {
     "data": {
      "text/plain": [
       "95.8"
      ]
     },
     "execution_count": 15,
     "metadata": {},
     "output_type": "execute_result"
    }
   ],
   "source": [
    "# copper centre <-> copper centre\n",
    "98.3 - 2.5"
   ]
  },
  {
   "cell_type": "markdown",
   "id": "321bdc6d",
   "metadata": {},
   "source": [
    "## Cooling System"
   ]
  },
  {
   "cell_type": "code",
   "execution_count": 16,
   "id": "be7e164e",
   "metadata": {},
   "outputs": [
    {
     "data": {
      "text/plain": [
       "24.8"
      ]
     },
     "execution_count": 16,
     "metadata": {},
     "output_type": "execute_result"
    }
   ],
   "source": [
    "# fan top to main board\n",
    "19\n",
    "\n",
    "# radiator top to main board\n",
    "20\n",
    "\n",
    "# hull top to bottom plate\n",
    "hullHeight = 20 + 1.57 + levitation + 0.23\n",
    "hullHeight"
   ]
  },
  {
   "cell_type": "markdown",
   "id": "59f4d397",
   "metadata": {},
   "source": [
    "### Radiator"
   ]
  },
  {
   "cell_type": "code",
   "execution_count": 17,
   "id": "3c530cbc",
   "metadata": {},
   "outputs": [
    {
     "data": {
      "text/plain": [
       "3.22"
      ]
     },
     "execution_count": 17,
     "metadata": {},
     "output_type": "execute_result"
    }
   ],
   "source": [
    "# radiator width\n",
    "104.9\n",
    "\n",
    "# radiator gap\n",
    "27.32\n",
    "\n",
    "# radiator sliding\n",
    "13.8\n",
    "\n",
    "# radiator nut insertion\n",
    "3.22"
   ]
  },
  {
   "cell_type": "code",
   "execution_count": null,
   "id": "8260bd19",
   "metadata": {},
   "outputs": [],
   "source": []
  },
  {
   "cell_type": "code",
   "execution_count": null,
   "id": "d4851977",
   "metadata": {},
   "outputs": [],
   "source": []
  },
  {
   "cell_type": "code",
   "execution_count": null,
   "id": "0a833998",
   "metadata": {},
   "outputs": [],
   "source": []
  },
  {
   "cell_type": "markdown",
   "id": "04c60530",
   "metadata": {},
   "source": [
    "## Wireless board"
   ]
  },
  {
   "cell_type": "code",
   "execution_count": 18,
   "id": "47eb315b",
   "metadata": {},
   "outputs": [
    {
     "data": {
      "text/plain": [
       "1.46"
      ]
     },
     "execution_count": 18,
     "metadata": {},
     "output_type": "execute_result"
    }
   ],
   "source": [
    "#nut depth\n",
    "2.44 - 0.98"
   ]
  },
  {
   "cell_type": "markdown",
   "id": "f0b3916a",
   "metadata": {},
   "source": [
    "## power button"
   ]
  },
  {
   "cell_type": "code",
   "execution_count": null,
   "id": "15cd72a0",
   "metadata": {},
   "outputs": [],
   "source": [
    "# PCB top to button top\n",
    "2\n",
    "\n",
    "# outer rim diameter\n",
    "11.5\n",
    "\n",
    "# inner ..\n",
    "10.5\n",
    "\n",
    "# safety protrusion width\n",
    "1.6\n",
    "\n",
    "#  length\n",
    "12.2"
   ]
  },
  {
   "cell_type": "markdown",
   "id": "89eb5d03",
   "metadata": {},
   "source": [
    "## Logistics\n",
    "\n",
    "- 90 degree precision screwdriver without bit\n",
    "- M2.5 bolt/nut\n",
    "- M1.6 bolt / 10mm\n",
    "- "
   ]
  }
 ],
 "metadata": {
  "kernelspec": {
   "display_name": "base",
   "language": "python",
   "name": "python3"
  },
  "language_info": {
   "codemirror_mode": {
    "name": "ipython",
    "version": 3
   },
   "file_extension": ".py",
   "mimetype": "text/x-python",
   "name": "python",
   "nbconvert_exporter": "python",
   "pygments_lexer": "ipython3",
   "version": "3.12.9"
  }
 },
 "nbformat": 4,
 "nbformat_minor": 5
}
