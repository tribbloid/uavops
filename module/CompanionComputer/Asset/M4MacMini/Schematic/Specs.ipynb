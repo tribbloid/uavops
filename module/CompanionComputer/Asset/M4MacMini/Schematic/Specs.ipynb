{
 "cells": [
  {
   "cell_type": "markdown",
   "id": "21eb775e",
   "metadata": {},
   "source": [
    "# Base"
   ]
  },
  {
   "cell_type": "markdown",
   "id": "393e51f0",
   "metadata": {},
   "source": [
    "## Main board"
   ]
  },
  {
   "cell_type": "code",
   "execution_count": 260,
   "id": "49904eae",
   "metadata": {},
   "outputs": [
    {
     "data": {
      "text/plain": [
       "3.5"
      ]
     },
     "execution_count": 260,
     "metadata": {},
     "output_type": "execute_result"
    }
   ],
   "source": [
    "#Width \n",
    "113.54\n",
    "\n",
    "# shielding thickness\n",
    "4.4\n",
    "\n",
    "# PCB  thickness\n",
    "pcb = 1.57\n",
    "\n",
    "# M3 x 2\n",
    "bolt_ground = (3, 2.4)\n",
    "\n",
    "# M2.5 x 2\n",
    "bolt_other = (2.5, 2)\n",
    "\n",
    "bolt_pwr = (2.5, 2)\n",
    "\n",
    "levitation = 4.4 - pcb + 0.17 + 0.5\n",
    "levitation"
   ]
  },
  {
   "cell_type": "markdown",
   "id": "1548cabb",
   "metadata": {},
   "source": [
    "### fastening"
   ]
  },
  {
   "cell_type": "code",
   "execution_count": 261,
   "id": "9d643d96",
   "metadata": {},
   "outputs": [
    {
     "data": {
      "text/plain": [
       "97.2"
      ]
     },
     "execution_count": 261,
     "metadata": {},
     "output_type": "execute_result"
    }
   ],
   "source": [
    "# silver outer rim <-> copper inner rim\n",
    "97.2"
   ]
  },
  {
   "cell_type": "code",
   "execution_count": 262,
   "id": "005a4382",
   "metadata": {},
   "outputs": [
    {
     "data": {
      "text/plain": [
       "92.65"
      ]
     },
     "execution_count": 262,
     "metadata": {},
     "output_type": "execute_result"
    }
   ],
   "source": [
    "# silver centre <-> copper centre\n",
    "97.2 - 3.3 - 1.25"
   ]
  },
  {
   "cell_type": "code",
   "execution_count": 263,
   "id": "13f78ea7",
   "metadata": {},
   "outputs": [
    {
     "data": {
      "text/plain": [
       "98.3"
      ]
     },
     "execution_count": 263,
     "metadata": {},
     "output_type": "execute_result"
    }
   ],
   "source": [
    "# copper inner rim <-> copper inner rim\n",
    "98.3"
   ]
  },
  {
   "cell_type": "code",
   "execution_count": 264,
   "id": "f017f869",
   "metadata": {},
   "outputs": [
    {
     "data": {
      "text/plain": [
       "95.8"
      ]
     },
     "execution_count": 264,
     "metadata": {},
     "output_type": "execute_result"
    }
   ],
   "source": [
    "# copper centre <-> copper centre\n",
    "98.3 - 2.5"
   ]
  },
  {
   "cell_type": "markdown",
   "id": "321bdc6d",
   "metadata": {},
   "source": [
    "## Fan"
   ]
  },
  {
   "cell_type": "code",
   "execution_count": 265,
   "id": "005ffc7f",
   "metadata": {},
   "outputs": [],
   "source": [
    "# from board\n",
    "fan2Board = 19"
   ]
  },
  {
   "cell_type": "code",
   "execution_count": 266,
   "id": "de32d962",
   "metadata": {},
   "outputs": [],
   "source": [
    "# TODO: need fan thickness"
   ]
  },
  {
   "cell_type": "code",
   "execution_count": 267,
   "id": "c7f2493a",
   "metadata": {},
   "outputs": [
    {
     "data": {
      "text/plain": [
       "11.600000000000001"
      ]
     },
     "execution_count": 267,
     "metadata": {},
     "output_type": "execute_result"
    }
   ],
   "source": [
    "fanSpacer = 13.8 - 1.6 - 0.6\n",
    "fanSpacer"
   ]
  },
  {
   "cell_type": "markdown",
   "id": "b830ce4d",
   "metadata": {},
   "source": [
    "## Hull"
   ]
  },
  {
   "cell_type": "code",
   "execution_count": null,
   "id": "9be323ab",
   "metadata": {},
   "outputs": [],
   "source": [
    "hullThickness = 1.8\n",
    "\n",
    "# aligned to the lower side of the main board\n",
    "groundConnectorThickness = 0.2"
   ]
  },
  {
   "cell_type": "code",
   "execution_count": 269,
   "id": "a8e612fa",
   "metadata": {},
   "outputs": [],
   "source": [
    "# from board\n",
    "bridge2Board = fan2Board + 2"
   ]
  },
  {
   "cell_type": "code",
   "execution_count": 270,
   "id": "f9a13d90",
   "metadata": {},
   "outputs": [
    {
     "data": {
      "text/plain": [
       "26.07"
      ]
     },
     "execution_count": 270,
     "metadata": {},
     "output_type": "execute_result"
    }
   ],
   "source": [
    "# TODO: need to remove double bolts\n",
    "hull_inner = levitation + pcb + bridge2Board # from bottom to top\n",
    "hull_inner"
   ]
  },
  {
   "cell_type": "code",
   "execution_count": 271,
   "id": "03c5dc65",
   "metadata": {},
   "outputs": [
    {
     "data": {
      "text/plain": [
       "27.87"
      ]
     },
     "execution_count": 271,
     "metadata": {},
     "output_type": "execute_result"
    }
   ],
   "source": [
    "hull_outer = hull_inner + hullThickness\n",
    "hull_outer"
   ]
  },
  {
   "cell_type": "code",
   "execution_count": 272,
   "id": "9969c6a8",
   "metadata": {},
   "outputs": [
    {
     "data": {
      "text/plain": [
       "17"
      ]
     },
     "execution_count": 272,
     "metadata": {},
     "output_type": "execute_result"
    }
   ],
   "source": [
    "upperBushing_long = bridge2Board - bolt_other[1] * 2\n",
    "upperBushing_long"
   ]
  },
  {
   "cell_type": "code",
   "execution_count": 273,
   "id": "3dbf72f2",
   "metadata": {},
   "outputs": [
    {
     "data": {
      "text/plain": [
       "3.9999999999999987"
      ]
     },
     "execution_count": 273,
     "metadata": {},
     "output_type": "execute_result"
    }
   ],
   "source": [
    "upperBushing_short = upperBushing_long - fanSpacer - 1.4\n",
    "upperBushing_short"
   ]
  },
  {
   "cell_type": "markdown",
   "id": "59f4d397",
   "metadata": {},
   "source": [
    "## Radiator"
   ]
  },
  {
   "cell_type": "code",
   "execution_count": 274,
   "id": "3c530cbc",
   "metadata": {},
   "outputs": [
    {
     "data": {
      "text/plain": [
       "3.22"
      ]
     },
     "execution_count": 274,
     "metadata": {},
     "output_type": "execute_result"
    }
   ],
   "source": [
    "# radiator width\n",
    "104.9\n",
    "\n",
    "# radiator gap\n",
    "27.32\n",
    "\n",
    "# radiator sliding\n",
    "13.8\n",
    "\n",
    "# radiator nut insertion\n",
    "3.22"
   ]
  },
  {
   "cell_type": "markdown",
   "id": "0df6b94a",
   "metadata": {},
   "source": [
    "## Primary Ports"
   ]
  },
  {
   "cell_type": "code",
   "execution_count": 275,
   "id": "8260bd19",
   "metadata": {},
   "outputs": [
    {
     "data": {
      "text/plain": [
       "10.0"
      ]
     },
     "execution_count": 275,
     "metadata": {},
     "output_type": "execute_result"
    }
   ],
   "source": [
    "# triple USB ports\n",
    "## 1-2 shift\n",
    "8.67830227\n",
    "\n",
    "## 2-3 shift\n",
    "8.66662872\n",
    "\n",
    "# horizontal clamp\n",
    "10.0"
   ]
  },
  {
   "cell_type": "markdown",
   "id": "04c60530",
   "metadata": {},
   "source": [
    "## Wireless board"
   ]
  },
  {
   "cell_type": "code",
   "execution_count": 276,
   "id": "47eb315b",
   "metadata": {},
   "outputs": [
    {
     "data": {
      "text/plain": [
       "1.46"
      ]
     },
     "execution_count": 276,
     "metadata": {},
     "output_type": "execute_result"
    }
   ],
   "source": [
    "#nut depth\n",
    "2.44 - 0.98"
   ]
  },
  {
   "cell_type": "code",
   "execution_count": 277,
   "id": "3d89b34c",
   "metadata": {},
   "outputs": [
    {
     "data": {
      "text/plain": [
       "2.3"
      ]
     },
     "execution_count": 277,
     "metadata": {},
     "output_type": "execute_result"
    }
   ],
   "source": [
    "# WirelessBoard diameter\n",
    "35\n",
    "\n",
    "# power delivery bolt diameter (= frac 1/16)\n",
    "1.57\n",
    "\n",
    "# WirelessBoard levitation (battery sice)\n",
    "7.2 - 4.9"
   ]
  },
  {
   "cell_type": "code",
   "execution_count": 278,
   "id": "a75438d4",
   "metadata": {},
   "outputs": [
    {
     "data": {
      "text/plain": [
       "2.5"
      ]
     },
     "execution_count": 278,
     "metadata": {},
     "output_type": "execute_result"
    }
   ],
   "source": [
    "# levitation (compatible to 6mm screw)\n",
    "6 - 1.5 - 2"
   ]
  },
  {
   "cell_type": "markdown",
   "id": "a6ab9f86",
   "metadata": {},
   "source": [
    "## Wifi antenna"
   ]
  },
  {
   "cell_type": "code",
   "execution_count": null,
   "id": "0f71ea2b",
   "metadata": {},
   "outputs": [],
   "source": [
    "# hole for SMA / RP-SMA\n",
    "6.5"
   ]
  },
  {
   "cell_type": "markdown",
   "id": "f0b3916a",
   "metadata": {},
   "source": [
    "## power button"
   ]
  },
  {
   "cell_type": "code",
   "execution_count": 279,
   "id": "15cd72a0",
   "metadata": {},
   "outputs": [
    {
     "data": {
      "text/plain": [
       "12.2"
      ]
     },
     "execution_count": 279,
     "metadata": {},
     "output_type": "execute_result"
    }
   ],
   "source": [
    "# PCB top to button top\n",
    "2\n",
    "\n",
    "# outer rim diameter\n",
    "11.5\n",
    "\n",
    "# inner ..\n",
    "10.5\n",
    "\n",
    "# safety protrusion width\n",
    "1.6\n",
    "\n",
    "#  length\n",
    "12.2\n",
    "\n",
    "# connector: Molex Pico-EZMate, 78172-0002/"
   ]
  },
  {
   "cell_type": "code",
   "execution_count": null,
   "id": "4d3c3861",
   "metadata": {},
   "outputs": [],
   "source": []
  },
  {
   "cell_type": "markdown",
   "id": "f670d787",
   "metadata": {},
   "source": [
    "## DC power delivery\n",
    "\n",
    "female 5.5mm jack pins\n",
    "\n",
    "```\n",
    "_              <- +12v\n",
    "     |          <- 0v\n",
    "   |            <- GND\n",
    "```"
   ]
  },
  {
   "cell_type": "code",
   "execution_count": null,
   "id": "f0676278",
   "metadata": {},
   "outputs": [],
   "source": [
    "# 2-rings terminal thickness (mm)\n",
    "0.2\n",
    "\n",
    "# ring-and-crump terminal thickness (mm)\n",
    "(0.4, 0.5)"
   ]
  },
  {
   "cell_type": "markdown",
   "id": "34b5bf3d",
   "metadata": {},
   "source": [
    "# Fastener"
   ]
  },
  {
   "cell_type": "code",
   "execution_count": 280,
   "id": "28a0f130",
   "metadata": {},
   "outputs": [],
   "source": [
    "# M2.5 nut\n",
    "# width 5.0\n",
    "# max height 3.4\n",
    "\n",
    "# M2 nut\n",
    "# width 4.0\n",
    "# max height 1.6"
   ]
  },
  {
   "cell_type": "markdown",
   "id": "5bbdee2f",
   "metadata": {},
   "source": [
    "# Cable"
   ]
  },
  {
   "cell_type": "code",
   "execution_count": null,
   "id": "26cbad99",
   "metadata": {},
   "outputs": [],
   "source": [
    "# PWR (mm)\n",
    "94\n",
    "\n",
    "# GND (mm)\n",
    "20"
   ]
  },
  {
   "cell_type": "markdown",
   "id": "89eb5d03",
   "metadata": {},
   "source": [
    "## Logistics\n",
    "\n",
    "- 90 degree precision screwdriver without bit\n",
    "- M2.5 bolt/nut/washer\n",
    "- M1.6 bolt(10mm)/washer\n",
    "- protected power button, connector and wire"
   ]
  },
  {
   "cell_type": "markdown",
   "id": "99bf0814",
   "metadata": {},
   "source": [
    "## TODO\n",
    "\n",
    "[x] figure out if the wifi board can fit into the gap between fan and main board\n",
    "    - HAHA no, space occupied by SSD\n",
    "\n",
    "[x] figure out if ground connector is aligned to the upper or lower side of the main board - lower\n",
    "\n",
    "[x] mount wireless board at the back\n",
    "\n",
    "[x] add bolt for power button\n",
    "\n",
    "[ ] add GND wire terminal separator\n",
    "\n",
    "[x] improve 3-bolt spacer for the unused port \n",
    "\n",
    "[ ] print wrench compatible with 4mm precision driver\n",
    "\n",
    "[ ] print 90 degree 4mm wrench/screwdriver (for 4mm bits), with 4mm hex holes on the handle/enclosure\n",
    "\n",
    "[x] bottom plate should use 2mm thick\n",
    "\n",
    "[x] add vertical mount on the bottom plate for DC jack\n",
    "\n",
    "[x] shrink PWR wire terminal separator\n",
    "\n",
    "[x] figure out ground vs disconnected terminal\n",
    "\n",
    "[x] solder DC jack with the correct lug\n",
    "\n",
    "[x] wireless board can be lowered & rotated to free space for more antenna, also enable inclined ground unit case\n",
    "\n",
    "## Deferred\n",
    "\n",
    "[ ] test on-board voltage regulator capability\n",
    "- (if compliant) add XT-60 connector for DC input"
   ]
  }
 ],
 "metadata": {
  "kernelspec": {
   "display_name": "uavops",
   "language": "python",
   "name": "python3"
  },
  "language_info": {
   "codemirror_mode": {
    "name": "ipython",
    "version": 3
   },
   "file_extension": ".py",
   "mimetype": "text/x-python",
   "name": "python",
   "nbconvert_exporter": "python",
   "pygments_lexer": "ipython3",
   "version": "3.13.5"
  }
 },
 "nbformat": 4,
 "nbformat_minor": 5
}
